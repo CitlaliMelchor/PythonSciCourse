{
 "cells": [
  {
   "cell_type": "markdown",
   "metadata": {},
   "source": [
    "# Graficación Intermedia\n",
    "\n",
    "Si integramos NumPy a Matplotlib, podemos crear gráficas avanzadas, porque ahora seremos capaces de graficar funciones en varias dimensiones, datos simulados y comparaciones estadísticas.\n",
    "\n",
    "En el siguiente ejemplo generamos un vector con 10 valores uniformemente distribuidos (un espacio lineal) desde menos pi a pi para graficar la función seno."
   ]
  },
  {
   "cell_type": "code",
   "execution_count": 7,
   "metadata": {},
   "outputs": [
    {
     "data": {
      "image/png": "[encoded data removed]",
      "text/plain": [
       "<Figure size 432x288 with 1 Axes>"
      ]
     },
     "metadata": {},
     "output_type": "display_data"
    }
   ],
   "source": [
    "import matplotlib.pyplot as plt\n",
    "import numpy as np\n",
    "\n",
    "x=np.linspace(-np.pi, np.pi, 40)\n",
    "y=np.sin(x)\n",
    "\n",
    "plt.plot(x,y,\"o-\", color=\"red\")\n",
    "plt.show()"
   ]
  },
  {
   "cell_type": "markdown",
   "metadata": {},
   "source": [
    "Observa que NumPy incorpora funciones dentro de la librería. A diferencia de las funciones matemáticas tradicionales de Python, tiene la capacidad de aplicarse a vectores (arreglos de NumPy) en lugar de solo a escalares.\n",
    "\n",
    "### Ejemplo 1"
   ]
  },
  {
   "cell_type": "code",
   "execution_count": 12,
   "metadata": {},
   "outputs": [
    {
     "name": "stdout",
     "output_type": "stream",
     "text": [
      "[0.         0.99166481 0.00159265]\n"
     ]
    }
   ],
   "source": [
    "x=np.array([0, 1.7, 3.14])\n",
    "y=np.sin(x)\n",
    "print(y)"
   ]
  },
  {
   "cell_type": "code",
   "execution_count": 14,
   "metadata": {},
   "outputs": [
    {
     "name": "stdout",
     "output_type": "stream",
     "text": [
      "[[ 0.84147098  0.90929743]\n",
      " [ 0.14112001 -0.7568025 ]]\n"
     ]
    }
   ],
   "source": [
    "x=[[1,2],\n",
    "   [3,4]]\n",
    "y=np.sin(x)\n",
    "print(y)"
   ]
  },
  {
   "cell_type": "markdown",
   "metadata": {},
   "source": [
    "Los arreglos de numpy tienen la paricularidad de poder opererse entre ellos como si fueras vectores o matrices. \n",
    "\n",
    "Veamos algunos ejemplos."
   ]
  },
  {
   "cell_type": "code",
   "execution_count": 16,
   "metadata": {},
   "outputs": [
    {
     "name": "stdout",
     "output_type": "stream",
     "text": [
      "[ 5  4 11]\n",
      "[-3  0 -5]\n"
     ]
    }
   ],
   "source": [
    "v1=np.array([1,2,3])\n",
    "v2=np.array([4,2,8])\n",
    "v3=v1+v2\n",
    "v4=v1-v2\n",
    "print(v3)\n",
    "print(v4)"
   ]
  },
  {
   "cell_type": "code",
   "execution_count": 17,
   "metadata": {},
   "outputs": [
    {
     "name": "stdout",
     "output_type": "stream",
     "text": [
      "[ 1  4  9 16 25]\n"
     ]
    }
   ],
   "source": [
    "v1=np.array([1,2,3,4,5])\n",
    "v2=v1**2\n",
    "print(v2)"
   ]
  },
  {
   "cell_type": "code",
   "execution_count": 44,
   "metadata": {},
   "outputs": [
    {
     "data": {
      "text/plain": [
       "<function matplotlib.pyplot.show(*args, **kw)>"
      ]
     },
     "execution_count": 44,
     "metadata": {},
     "output_type": "execute_result"
    },
    {
     "data": {
      "image/png": "[encoded data removed]",
      "text/plain": [
       "<Figure size 432x288 with 1 Axes>"
      ]
     },
     "metadata": {},
     "output_type": "display_data"
    }
   ],
   "source": [
    "v=np.random.normal(4,0.8,10000)\n",
    "plt.hist(v,30, density=True) #formado por v datos y 30 bins o cajas (grupos)\n",
    "x=np.linspace(1,7,100)\n",
    "y=np.exp(-((x-4)/(2*0.8))**2)/(0.8*(2*np.pi)**0.5)\n",
    "\n",
    "plt.plot(x,y,\"--\", color=\"orange\")\n",
    "plt.show"
   ]
  },
  {
   "cell_type": "code",
   "execution_count": null,
   "metadata": {},
   "outputs": [],
   "source": []
  }
 ],
 "metadata": {
  "kernelspec": {
   "display_name": "Python 3",
   "language": "python",
   "name": "python3"
  },
  "language_info": {
   "codemirror_mode": {
    "name": "ipython",
    "version": 3
   },
   "file_extension": ".py",
   "mimetype": "text/x-python",
   "name": "python",
   "nbconvert_exporter": "python",
   "pygments_lexer": "ipython3",
   "version": "3.6.5"
  }
 },
 "nbformat": 4,
 "nbformat_minor": 2
}
