{
 "cells": [
  {
   "cell_type": "markdown",
   "metadata": {},
   "source": [
    "# 1. Introducción a Python\n",
    "02.23.19"
   ]
  },
  {
   "cell_type": "markdown",
   "metadata": {},
   "source": [
    "Python es un lenguaje de programación potente y sencillo el cual es de tipo scripting no tipado, ampliamente utilizado en la ciencia. las características más importantes de Python es manipular librerias potentes de machine learning, análisis de datos y graficación de forma simple. "
   ]
  },
  {
   "cell_type": "code",
   "execution_count": 1,
   "metadata": {},
   "outputs": [
    {
     "name": "stdout",
     "output_type": "stream",
     "text": [
      "¡Hola Python!\n"
     ]
    }
   ],
   "source": [
    "print (\"¡Hola Python!\")"
   ]
  },
  {
   "cell_type": "markdown",
   "metadata": {},
   "source": [
    "### Ejemplo 1: Ordenamiento de listas\n",
    "En el siguiente ejemplo se muestra un pequeño programa que implementa un algoritmo sencillo de ordenamiento para devolver una lista ordenada."
   ]
  },
  {
   "cell_type": "code",
   "execution_count": 8,
   "metadata": {},
   "outputs": [
    {
     "name": "stdout",
     "output_type": "stream",
     "text": [
      "a = []\n",
      "b = [1, 2, 2, 2, 3, 3, 4, 4, 5, 6, 8, 8, 9]\n"
     ]
    }
   ],
   "source": [
    "a=[1,2,5,2,4,6,3,8,4,3,8,9,2]\n",
    "b=[] #lista con valores ordenados\n",
    "n=len(a)\n",
    "for i in range (n):\n",
    "    m=min(a) #buscamos el número menor de la lista a\n",
    "    k=a.index(m) #recuperamos el primer índice de m (el menor)\n",
    "    a.pop(k) #quita el índice k de la lista a\n",
    "    b.append (m) #agrega el elemento menor a la lista m\n",
    "    \n",
    "print(\"a =\" ,a)\n",
    "print(\"b =\",b)"
   ]
  },
  {
   "cell_type": "markdown",
   "metadata": {},
   "source": [
    "Python es muy eficiente para manipular * **listas** * grandes, * **diccionarios** * (tablas hash) e incluso posee * **tuplas** * (empaquetadores/ensambladores), de los cuales su dominio permitirá resolver problemas extremadamente complicados. \n",
    "\n",
    "### Ejemplo 2: Burbujas\n",
    "En el siguiente código haremos una implementación del método de ordenamiento de burbuja, el cual consiste en escalar los elementos más grandes hacia arriba y los más pequeños dejarlos hasta abajo."
   ]
  },
  {
   "cell_type": "code",
   "execution_count": 13,
   "metadata": {},
   "outputs": [
    {
     "name": "stdout",
     "output_type": "stream",
     "text": [
      "a= [1, 2, 2, 2, 3, 3, 4, 4, 5, 6, 8, 8, 9]\n"
     ]
    }
   ],
   "source": [
    "a=[1,2,5,2,4,6,3,8,4,3,8,9,2]\n",
    "n=len(a)\n",
    "for i in range(n):\n",
    "    for j in range (n-1):\n",
    "        if a[j]>a[j+1]:\n",
    "            a[j],a[j+1]=a[j+1],a[j] #uso de tuplas para empaquetar y desempaquetar los valores de la lista\n",
    "print (\"a=\", a)"
   ]
  },
  {
   "cell_type": "markdown",
   "metadata": {},
   "source": [
    "Una de las colecciones más importantes para almacenar datos mixtos es el * **diccionario** *, el cual consiste en almacenar valores en un objeto que asocia claves a valores, es decir, los valores dentro del diccionario van a ser almacenados mediante claves. \n",
    "\n",
    "### Ejemplo 3: Diccionarios\n",
    "El siguiente ejemplo muestra un programa que define una función llamada `personaGen` la cuál genera los datos de una persona aleatoria y nos devuelve un diccionario con dichos datos de la persona."
   ]
  },
  {
   "cell_type": "code",
   "execution_count": 17,
   "metadata": {},
   "outputs": [
    {
     "name": "stdout",
     "output_type": "stream",
     "text": [
      "{'nombre': 'Ana', 'edad': 50, 'salario': 1938.8356160197395}\n",
      "{'nombre': 'Beto', 'edad': 80, 'salario': 8121.117089825095}\n"
     ]
    }
   ],
   "source": [
    "import random \n",
    "def personaGen():\n",
    "    persona ={\n",
    "        \"nombre\":random.choice([\"Ana\",\"Beto\",\"Juan\", \"Diana\"]), #escoge un valor aleatorio de la lista \n",
    "        \"edad\": random.randint(0,100), #selecciona un valor entero aleatorio\n",
    "        \"salario\": random.uniform(1000,10000) #selecciona un valor flotante aleatorio\n",
    "    }\n",
    "    return persona\n",
    "\n",
    "p1=personaGen()\n",
    "p2=personaGen()\n",
    "\n",
    "print(p1)\n",
    "print(p2)"
   ]
  },
  {
   "cell_type": "markdown",
   "metadata": {},
   "source": [
    "En el siguiente código se muestra cómo seleccionar un caracter aleatorio de una cadena. Para esto, recordamos que una cadena se puede partir en caracteres mediante la función `list`."
   ]
  },
  {
   "cell_type": "code",
   "execution_count": 23,
   "metadata": {},
   "outputs": [
    {
     "name": "stdout",
     "output_type": "stream",
     "text": [
      "q\n"
     ]
    }
   ],
   "source": [
    "import random\n",
    "abc=list(\"abcdefghijklmnopqrstuvwxyz\")\n",
    "#print (abc)\n",
    "x=random.choice(abc)\n",
    "print(x)"
   ]
  },
  {
   "cell_type": "markdown",
   "metadata": {},
   "source": [
    "#### Tarea 1: obtener el código ASCII de una lista "
   ]
  },
  {
   "cell_type": "code",
   "execution_count": 39,
   "metadata": {},
   "outputs": [
    {
     "name": "stdout",
     "output_type": "stream",
     "text": [
      "[113, 119, 101, 114, 116, 121, 117, 105, 111, 112, 97, 115, 100, 102, 103, 104, 106, 107, 108, 241, 122, 120, 99, 118, 98, 110, 109]\n"
     ]
    }
   ],
   "source": [
    "abc=list(\"qwertyuiopasdfghjklñzxcvbnm\")\n",
    "n=len(abc)\n",
    "b=[]\n",
    "for i in range(n):\n",
    "    b.insert(i,ord(abc[i]))\n",
    "print (b)\n"
   ]
  },
  {
   "cell_type": "code",
   "execution_count": null,
   "metadata": {},
   "outputs": [],
   "source": []
  }
 ],
 "metadata": {
  "kernelspec": {
   "display_name": "Python 3",
   "language": "python",
   "name": "python3"
  },
  "language_info": {
   "codemirror_mode": {
    "name": "ipython",
    "version": 3
   },
   "file_extension": ".py",
   "mimetype": "text/x-python",
   "name": "python",
   "nbconvert_exporter": "python",
   "pygments_lexer": "ipython3",
   "version": "3.6.5"
  }
 },
 "nbformat": 4,
 "nbformat_minor": 2
}
