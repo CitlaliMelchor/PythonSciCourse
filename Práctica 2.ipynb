{
 "cells": [
  {
   "cell_type": "markdown",
   "metadata": {},
   "source": [
    "# Práctica 2\n",
    "Citlali Melchor Ramírez\n",
    "#### 1. Construir o adquirir un archivo csv que contenga columnas de tipo categóricas y escalares\n",
    "\n",
    "Se empleó el dataset de resistencia a la compresión del concreto "
   ]
  },
  {
   "cell_type": "code",
   "execution_count": 3,
   "metadata": {},
   "outputs": [],
   "source": [
    "import numpy as np\n",
    "import pandas as pd\n",
    "import matplotlib.pyplot as plt"
   ]
  },
  {
   "cell_type": "markdown",
   "metadata": {},
   "source": [
    "#### 2. Cargar los datos del archivo en un dataframe de pandas con la función  pd.read_csv(…) y quitar las filas que contengan elementos nulos en cualquier columna."
   ]
  },
  {
   "cell_type": "code",
   "execution_count": 4,
   "metadata": {},
   "outputs": [
    {
     "data": {
      "text/html": [
       "<div>\n",
       "<style scoped>\n",
       "    .dataframe tbody tr th:only-of-type {\n",
       "        vertical-align: middle;\n",
       "    }\n",
       "\n",
       "    .dataframe tbody tr th {\n",
       "        vertical-align: top;\n",
       "    }\n",
       "\n",
       "    .dataframe thead th {\n",
       "        text-align: right;\n",
       "    }\n",
       "</style>\n",
       "<table border=\"1\" class=\"dataframe\">\n",
       "  <thead>\n",
       "    <tr style=\"text-align: right;\">\n",
       "      <th></th>\n",
       "      <th>Cement</th>\n",
       "      <th>Blast Furnace Slag</th>\n",
       "      <th>Fly Ash</th>\n",
       "      <th>Water</th>\n",
       "      <th>Superplasticizer</th>\n",
       "      <th>Coarse Aggregate</th>\n",
       "      <th>Fine Aggregate</th>\n",
       "      <th>Age</th>\n",
       "      <th>Concrete compressive strength</th>\n",
       "    </tr>\n",
       "  </thead>\n",
       "  <tbody>\n",
       "    <tr>\n",
       "      <th>0</th>\n",
       "      <td>540.0</td>\n",
       "      <td>0.0</td>\n",
       "      <td>0.0</td>\n",
       "      <td>162.0</td>\n",
       "      <td>2.5</td>\n",
       "      <td>1040.0</td>\n",
       "      <td>676.0</td>\n",
       "      <td>28</td>\n",
       "      <td>79.99</td>\n",
       "    </tr>\n",
       "    <tr>\n",
       "      <th>1</th>\n",
       "      <td>540.0</td>\n",
       "      <td>0.0</td>\n",
       "      <td>0.0</td>\n",
       "      <td>162.0</td>\n",
       "      <td>2.5</td>\n",
       "      <td>1055.0</td>\n",
       "      <td>676.0</td>\n",
       "      <td>28</td>\n",
       "      <td>61.89</td>\n",
       "    </tr>\n",
       "    <tr>\n",
       "      <th>2</th>\n",
       "      <td>332.5</td>\n",
       "      <td>142.5</td>\n",
       "      <td>0.0</td>\n",
       "      <td>228.0</td>\n",
       "      <td>0.0</td>\n",
       "      <td>932.0</td>\n",
       "      <td>594.0</td>\n",
       "      <td>270</td>\n",
       "      <td>40.27</td>\n",
       "    </tr>\n",
       "    <tr>\n",
       "      <th>3</th>\n",
       "      <td>332.5</td>\n",
       "      <td>142.5</td>\n",
       "      <td>0.0</td>\n",
       "      <td>228.0</td>\n",
       "      <td>0.0</td>\n",
       "      <td>932.0</td>\n",
       "      <td>594.0</td>\n",
       "      <td>365</td>\n",
       "      <td>41.05</td>\n",
       "    </tr>\n",
       "    <tr>\n",
       "      <th>4</th>\n",
       "      <td>198.6</td>\n",
       "      <td>132.4</td>\n",
       "      <td>0.0</td>\n",
       "      <td>192.0</td>\n",
       "      <td>0.0</td>\n",
       "      <td>978.4</td>\n",
       "      <td>825.5</td>\n",
       "      <td>360</td>\n",
       "      <td>44.30</td>\n",
       "    </tr>\n",
       "  </tbody>\n",
       "</table>\n",
       "</div>"
      ],
      "text/plain": [
       "   Cement  Blast Furnace Slag  Fly Ash   Water  Superplasticizer  \\\n",
       "0   540.0                 0.0       0.0  162.0               2.5   \n",
       "1   540.0                 0.0       0.0  162.0               2.5   \n",
       "2   332.5               142.5       0.0  228.0               0.0   \n",
       "3   332.5               142.5       0.0  228.0               0.0   \n",
       "4   198.6               132.4       0.0  192.0               0.0   \n",
       "\n",
       "   Coarse Aggregate  Fine Aggregate  Age  Concrete compressive strength  \n",
       "0            1040.0           676.0   28                          79.99  \n",
       "1            1055.0           676.0   28                          61.89  \n",
       "2             932.0           594.0  270                          40.27  \n",
       "3             932.0           594.0  365                          41.05  \n",
       "4             978.4           825.5  360                          44.30  "
      ]
     },
     "execution_count": 4,
     "metadata": {},
     "output_type": "execute_result"
    }
   ],
   "source": [
    "df=pd.read_csv(\"CONCRETE.csv\",encoding = \"ISO-8859-1\").dropna()\n",
    "df.head()"
   ]
  },
  {
   "cell_type": "markdown",
   "metadata": {},
   "source": [
    "#### 3. Seleccionar una columna que sea de tipo escalar y mostrar sus elementos."
   ]
  },
  {
   "cell_type": "code",
   "execution_count": 5,
   "metadata": {},
   "outputs": [],
   "source": [
    "col=df[\"Concrete compressive strength\"]"
   ]
  },
  {
   "cell_type": "markdown",
   "metadata": {},
   "source": [
    "#### 4. Obtener la suma de los elementos de la columna"
   ]
  },
  {
   "cell_type": "code",
   "execution_count": 6,
   "metadata": {},
   "outputs": [
    {
     "name": "stdout",
     "output_type": "stream",
     "text": [
      "36892.49999999996\n"
     ]
    }
   ],
   "source": [
    "s=sum(col)\n",
    "print (s)"
   ]
  },
  {
   "cell_type": "markdown",
   "metadata": {},
   "source": [
    "#### 5. Obtener el promedio de los elementos de la columna"
   ]
  },
  {
   "cell_type": "code",
   "execution_count": 7,
   "metadata": {},
   "outputs": [
    {
     "name": "stdout",
     "output_type": "stream",
     "text": [
      "promedio:  35.81796116504851\n"
     ]
    }
   ],
   "source": [
    "p=s/len(col)\n",
    "print(\"promedio: \", p)"
   ]
  },
  {
   "cell_type": "markdown",
   "metadata": {},
   "source": [
    "#### 6. Calcular la suma de cada elemento menos la media elevado al cuadrado de la columna"
   ]
  },
  {
   "cell_type": "code",
   "execution_count": 8,
   "metadata": {},
   "outputs": [
    {
     "name": "stdout",
     "output_type": "stream",
     "text": [
      "287175.18711844634\n"
     ]
    }
   ],
   "source": [
    "m=0\n",
    "for i in col:\n",
    "    m+=(i-p)**2\n",
    "print(m)"
   ]
  },
  {
   "cell_type": "markdown",
   "metadata": {},
   "source": [
    "#### 7. Obtener la varianza y desviación estándar"
   ]
  },
  {
   "cell_type": "code",
   "execution_count": 9,
   "metadata": {},
   "outputs": [
    {
     "name": "stdout",
     "output_type": "stream",
     "text": [
      "varianza:  278.810861280045\n",
      "desviación estándar:  16.697630409134256\n"
     ]
    }
   ],
   "source": [
    "var=m/len( col)\n",
    "print(\"varianza: \", var)\n",
    "sd=var**0.5\n",
    "print(\"desviación estándar: \", sd)"
   ]
  },
  {
   "cell_type": "markdown",
   "metadata": {},
   "source": [
    "#### 8. Calcular el valor mínimo y máximo de los elementos de la columna"
   ]
  },
  {
   "cell_type": "code",
   "execution_count": 10,
   "metadata": {},
   "outputs": [
    {
     "name": "stdout",
     "output_type": "stream",
     "text": [
      "mínimo:  2.33\n",
      "máximo:  82.6\n"
     ]
    }
   ],
   "source": [
    "minimo=min(col)\n",
    "maximo=max(col)\n",
    "print(\"mínimo: \", minimo)\n",
    "print(\"máximo: \", maximo)"
   ]
  },
  {
   "cell_type": "markdown",
   "metadata": {},
   "source": [
    "#### 9. Calcular el valor min68 y max68 que es el valor promedio menos la desviación estándar y el promedio más la desviación estándar respectivamente"
   ]
  },
  {
   "cell_type": "code",
   "execution_count": 11,
   "metadata": {},
   "outputs": [
    {
     "name": "stdout",
     "output_type": "stream",
     "text": [
      "min68=  19.120330755914253\n",
      "max68=  52.515591574182764\n"
     ]
    }
   ],
   "source": [
    "min68=p-sd;\n",
    "max68=p+sd;\n",
    "print(\"min68= \", min68)\n",
    "print(\"max68= \", max68)\n"
   ]
  },
  {
   "cell_type": "markdown",
   "metadata": {},
   "source": [
    "#### 10. Calcular min95 y max95 de forma similar a la anterior pero ahora dos veces la desviación estándar"
   ]
  },
  {
   "cell_type": "code",
   "execution_count": 12,
   "metadata": {},
   "outputs": [
    {
     "name": "stdout",
     "output_type": "stream",
     "text": [
      "min95=  2.4227003467799975\n",
      "max95=  69.21322198331703\n"
     ]
    }
   ],
   "source": [
    "min95=p-2*sd\n",
    "max95=p+2*sd\n",
    "print(\"min95= \", min95)\n",
    "print(\"max95= \", max95)"
   ]
  },
  {
   "cell_type": "markdown",
   "metadata": {},
   "source": [
    "#### 11. Calcular min99 y max99 con tres veces la desviación estándar"
   ]
  },
  {
   "cell_type": "code",
   "execution_count": 13,
   "metadata": {},
   "outputs": [
    {
     "name": "stdout",
     "output_type": "stream",
     "text": [
      "min99=  -14.274930062354258\n",
      "max99=  85.91085239245128\n"
     ]
    }
   ],
   "source": [
    "min99=p-3*sd\n",
    "max99=p+3*sd\n",
    "print(\"min99= \", min99)\n",
    "print(\"max99= \", max99)"
   ]
  },
  {
   "cell_type": "markdown",
   "metadata": {},
   "source": [
    "#### 12. Crear una nueva columna en el dataframe llamada igual que la columna escalar seleccionada más el sufijo _norm que contenga los elementos restados min95 y dividido entre la suma de  min95 y max95 (opcionalmente puedes volver los valores mayores a uno a 1 y los menores a cero a 0)"
   ]
  },
  {
   "cell_type": "code",
   "execution_count": 14,
   "metadata": {},
   "outputs": [],
   "source": [
    "col_norm=[]\n",
    "for i in col:\n",
    "    x=(i-min95)/(min95+max95)\n",
    "    col_norm.append(x)\n",
    "\n",
    "    #falta hacerlo dataframe"
   ]
  },
  {
   "cell_type": "markdown",
   "metadata": {},
   "source": [
    "#### 13. Graficar un histograma que muestre los elementos de la columna"
   ]
  },
  {
   "cell_type": "code",
   "execution_count": 15,
   "metadata": {},
   "outputs": [
    {
     "data": {
      "text/plain": [
       "(array([0.00193522, 0.00895038, 0.01451412, 0.01765885, 0.01306271,\n",
       "        0.02467401, 0.01741695, 0.02636732, 0.02104548, 0.02636732,\n",
       "        0.01644934, 0.01064369, 0.01354651, 0.01064369, 0.00774086,\n",
       "        0.00483804, 0.00459614, 0.00411233, 0.00217712, 0.00241902]),\n",
       " array([ 2.33  ,  6.3435, 10.357 , 14.3705, 18.384 , 22.3975, 26.411 ,\n",
       "        30.4245, 34.438 , 38.4515, 42.465 , 46.4785, 50.492 , 54.5055,\n",
       "        58.519 , 62.5325, 66.546 , 70.5595, 74.573 , 78.5865, 82.6   ]),\n",
       " <a list of 20 Patch objects>)"
      ]
     },
     "execution_count": 15,
     "metadata": {},
     "output_type": "execute_result"
    },
    {
     "data": {
      "image/png": "[encoded data removed]",
      "text/plain": [
       "<Figure size 432x288 with 1 Axes>"
      ]
     },
     "metadata": {},
     "output_type": "display_data"
    }
   ],
   "source": [
    "plt.hist(col,20, density=True)"
   ]
  },
  {
   "cell_type": "markdown",
   "metadata": {},
   "source": [
    "#### 14. Graficar sobre el histograma otro histograma con datos aleatorios generados con la distribución normal con los datos del promedio y la desviación estándar"
   ]
  },
  {
   "cell_type": "code",
   "execution_count": 16,
   "metadata": {},
   "outputs": [
    {
     "data": {
      "text/plain": [
       "(array([3.24193655e-05, 1.13467779e-04, 5.02500165e-04, 7.29435723e-04,\n",
       "        1.88032320e-03, 4.37661434e-03, 8.07242200e-03, 1.23679879e-02,\n",
       "        1.77658123e-02, 2.18506523e-02, 2.43307338e-02, 2.25800880e-02,\n",
       "        1.80900059e-02, 1.30163752e-02, 8.44524470e-03, 4.34419497e-03,\n",
       "        2.22072653e-03, 9.07742233e-04, 3.56613020e-04, 1.13467779e-04]),\n",
       " array([-29.11499806, -22.94584585, -16.77669364, -10.60754143,\n",
       "         -4.43838922,   1.73076298,   7.89991519,  14.0690674 ,\n",
       "         20.23821961,  26.40737182,  32.57652403,  38.74567623,\n",
       "         44.91482844,  51.08398065,  57.25313286,  63.42228507,\n",
       "         69.59143728,  75.76058948,  81.92974169,  88.0988939 ,\n",
       "         94.26804611]),\n",
       " <a list of 20 Patch objects>)"
      ]
     },
     "execution_count": 16,
     "metadata": {},
     "output_type": "execute_result"
    },
    {
     "data": {
      "image/png": "[encoded data removed]",
      "text/plain": [
       "<Figure size 432x288 with 1 Axes>"
      ]
     },
     "metadata": {},
     "output_type": "display_data"
    }
   ],
   "source": [
    "n=np.random.normal(p,sd,10000)\n",
    "plt.hist(col,20, density=True,color=\"#0000FFFF\")\n",
    "plt.hist(n,20, density=True,color=\"#FF0000AF\")"
   ]
  },
  {
   "cell_type": "markdown",
   "metadata": {},
   "source": [
    "#### 15. Graficar una curva normal con los datos del promedio y la desviación estándar"
   ]
  },
  {
   "cell_type": "code",
   "execution_count": 17,
   "metadata": {},
   "outputs": [
    {
     "data": {
      "text/plain": [
       "<function matplotlib.pyplot.show(*args, **kw)>"
      ]
     },
     "execution_count": 17,
     "metadata": {},
     "output_type": "execute_result"
    },
    {
     "data": {
      "image/png": "[encoded data removed]",
      "text/plain": [
       "<Figure size 432x288 with 1 Axes>"
      ]
     },
     "metadata": {},
     "output_type": "display_data"
    }
   ],
   "source": [
    "plt.hist(col,20, density=True,color=\"#0000FFFF\")\n",
    "plt.hist(n,20, density=True,color=\"#FF0000AF\")\n",
    "\n",
    "x=np.linspace(min99,max99,100)\n",
    "y=np.exp(-((x-p)/(2*sd))**2)/(sd*(2*np.pi)**0.5)\n",
    "\n",
    "plt.plot(x,y,\"--\", color=\"black\")\n",
    "plt.show"
   ]
  },
  {
   "cell_type": "markdown",
   "metadata": {},
   "source": [
    "#### 16. Agregar líneas verticales de diferentes colores en min68, max68, min95, max95 y min99, max99"
   ]
  },
  {
   "cell_type": "code",
   "execution_count": 29,
   "metadata": {},
   "outputs": [
    {
     "data": {
      "text/plain": [
       "<function matplotlib.pyplot.show(*args, **kw)>"
      ]
     },
     "execution_count": 29,
     "metadata": {},
     "output_type": "execute_result"
    },
    {
     "data": {
      "image/png": "[encoded data removed]",
      "text/plain": [
       "<Figure size 432x288 with 1 Axes>"
      ]
     },
     "metadata": {},
     "output_type": "display_data"
    }
   ],
   "source": [
    "plt.hist(col,20, density=True,color=\"#0000FFFF\")\n",
    "plt.hist(n,20, density=True,color=\"#FF0000AF\")\n",
    "\n",
    "x=np.linspace(min99,max99,100)\n",
    "y=np.exp(-((x-p)/(2*sd))**2)/(sd*(2*np.pi)**0.5)\n",
    "\n",
    "plt.plot(x,y,\"--\", color=\"black\")\n",
    "\n",
    "plt.axvline(x=min68,color='red')\n",
    "plt.axvline(x=max68, color='red')\n",
    "plt.axvline(x=min95,color='orange')\n",
    "plt.axvline(x=max95, color='orange')\n",
    "plt.axvline(x=min99,color='yellow')\n",
    "plt.axvline(x=max99, color='yellow')\n",
    "\n",
    "plt.show"
   ]
  },
  {
   "cell_type": "markdown",
   "metadata": {},
   "source": [
    "#### 17. Graficar una barra de error que muestre el promedio y varianza de la columna"
   ]
  },
  {
   "cell_type": "code",
   "execution_count": 36,
   "metadata": {},
   "outputs": [
    {
     "name": "stderr",
     "output_type": "stream",
     "text": [
      "C:\\Program Files (x86)\\Microsoft Visual Studio\\Shared\\Anaconda3_64\\lib\\site-packages\\matplotlib\\axes\\_axes.py:6462: UserWarning: The 'normed' kwarg is deprecated, and has been replaced by the 'density' kwarg.\n",
      "  warnings.warn(\"The 'normed' kwarg is deprecated, and has been \"\n"
     ]
    },
    {
     "data": {
      "text/plain": [
       "[Text(0.5,0,'barra de error')]"
      ]
     },
     "execution_count": 36,
     "metadata": {},
     "output_type": "execute_result"
    },
    {
     "data": {
      "image/png": "[encoded data removed]",
      "text/plain": [
       "<Figure size 432x288 with 2 Axes>"
      ]
     },
     "metadata": {},
     "output_type": "display_data"
    }
   ],
   "source": [
    "# Import library and dataset\n",
    "import seaborn as sns\n",
    "import matplotlib.pyplot as plt\n",
    " \n",
    "# Cut the window in 2 parts\n",
    "f, (ax_box, ax_hist) = plt.subplots(2, sharex=True, gridspec_kw={\"height_ratios\": (.15, .85)})\n",
    " \n",
    "# Add a graph in each part\n",
    "sns.boxplot(col, ax=ax_box)\n",
    "sns.distplot(col, ax=ax_hist)\n",
    " \n",
    "# Remove x axis name for the boxplot\n",
    "ax_box.set(xlabel='barra de error')\n"
   ]
  },
  {
   "cell_type": "markdown",
   "metadata": {},
   "source": [
    "#### 18. En un texto con formato agradable mostrar el valor de todos los indicadores encontrados (sumas, desviación, mínimos y máximos)"
   ]
  },
  {
   "cell_type": "code",
   "execution_count": 41,
   "metadata": {},
   "outputs": [
    {
     "name": "stdout",
     "output_type": "stream",
     "text": [
      "suma:  36892.49999999996\n",
      "desviación estándar:  16.697630409134256\n",
      "mín68:  19.120330755914253\n",
      "máx68:  52.515591574182764\n",
      "mín68:  2.4227003467799975\n",
      "máx68:  69.21322198331703\n",
      "mín68:  -14.274930062354258\n",
      "máx68:  85.91085239245128\n"
     ]
    }
   ],
   "source": [
    "print('suma: ',s)\n",
    "print('desviación estándar: ', sd)\n",
    "print('mín68: ',min68)\n",
    "print('máx68: ',max68)\n",
    "print('mín68: ',min95)\n",
    "print('máx68: ',max95)\n",
    "print('mín68: ',min99)\n",
    "print('máx68: ',max99)"
   ]
  },
  {
   "cell_type": "code",
   "execution_count": null,
   "metadata": {},
   "outputs": [],
   "source": []
  }
 ],
 "metadata": {
  "kernelspec": {
   "display_name": "Python 3",
   "language": "python",
   "name": "python3"
  },
  "language_info": {
   "codemirror_mode": {
    "name": "ipython",
    "version": 3
   },
   "file_extension": ".py",
   "mimetype": "text/x-python",
   "name": "python",
   "nbconvert_exporter": "python",
   "pygments_lexer": "ipython3",
   "version": "3.6.8"
  }
 },
 "nbformat": 4,
 "nbformat_minor": 2
}
