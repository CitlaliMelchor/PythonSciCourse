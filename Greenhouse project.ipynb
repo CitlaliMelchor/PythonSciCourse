{
 "cells": [
  {
   "cell_type": "markdown",
   "metadata": {},
   "source": [
    "# Greenhouse data"
   ]
  },
  {
   "cell_type": "code",
   "execution_count": 1,
   "metadata": {},
   "outputs": [],
   "source": [
    "import numpy as np\n",
    "import pandas as pd\n",
    "import matplotlib.pyplot as plt\n",
    "import matplotlib.ticker as ticker\n",
    "import matplotlib.dates as mdates"
   ]
  },
  {
   "cell_type": "code",
   "execution_count": 3,
   "metadata": {
    "scrolled": false
   },
   "outputs": [],
   "source": [
    "df = pd.read_csv('2018-03-01-T5min-GH.csv', header=3, names=[\"TimeStamp\", \"Record\",\"PAR in\", \"PAR tot\", \"Avg Temperature\", \"Avg RH\", \"Soil Heat flux\", \"Soil heat cal\"], index_col=1)"
   ]
  },
  {
   "cell_type": "code",
   "execution_count": 3,
   "metadata": {},
   "outputs": [
    {
     "data": {
      "text/html": [
       "<div>\n",
       "<style scoped>\n",
       "    .dataframe tbody tr th:only-of-type {\n",
       "        vertical-align: middle;\n",
       "    }\n",
       "\n",
       "    .dataframe tbody tr th {\n",
       "        vertical-align: top;\n",
       "    }\n",
       "\n",
       "    .dataframe thead th {\n",
       "        text-align: right;\n",
       "    }\n",
       "</style>\n",
       "<table border=\"1\" class=\"dataframe\">\n",
       "  <thead>\n",
       "    <tr style=\"text-align: right;\">\n",
       "      <th></th>\n",
       "      <th>PAR in</th>\n",
       "      <th>PAR tot</th>\n",
       "      <th>Avg Temperature</th>\n",
       "      <th>Avg RH</th>\n",
       "      <th>Soil Heat flux</th>\n",
       "      <th>Soil heat cal</th>\n",
       "    </tr>\n",
       "    <tr>\n",
       "      <th>TimeStamp</th>\n",
       "      <th></th>\n",
       "      <th></th>\n",
       "      <th></th>\n",
       "      <th></th>\n",
       "      <th></th>\n",
       "      <th></th>\n",
       "    </tr>\n",
       "  </thead>\n",
       "  <tbody>\n",
       "    <tr>\n",
       "      <th>2018-03-01 12:05:00</th>\n",
       "      <td>693.5</td>\n",
       "      <td>3.468</td>\n",
       "      <td>27.27</td>\n",
       "      <td>28.84</td>\n",
       "      <td>28.99074</td>\n",
       "      <td>15.64</td>\n",
       "    </tr>\n",
       "    <tr>\n",
       "      <th>2018-03-01 12:10:00</th>\n",
       "      <td>NAN</td>\n",
       "      <td>NAN</td>\n",
       "      <td>27.21</td>\n",
       "      <td>28.65</td>\n",
       "      <td>29.13963</td>\n",
       "      <td>15.64</td>\n",
       "    </tr>\n",
       "    <tr>\n",
       "      <th>2018-03-01 12:15:00</th>\n",
       "      <td>692</td>\n",
       "      <td>3.46</td>\n",
       "      <td>27.20</td>\n",
       "      <td>28.29</td>\n",
       "      <td>29.29271</td>\n",
       "      <td>15.64</td>\n",
       "    </tr>\n",
       "    <tr>\n",
       "      <th>2018-03-01 12:20:00</th>\n",
       "      <td>687.6</td>\n",
       "      <td>3.438</td>\n",
       "      <td>28.05</td>\n",
       "      <td>26.94</td>\n",
       "      <td>29.33599</td>\n",
       "      <td>15.64</td>\n",
       "    </tr>\n",
       "    <tr>\n",
       "      <th>2018-03-01 12:25:00</th>\n",
       "      <td>688.9</td>\n",
       "      <td>3.444</td>\n",
       "      <td>27.85</td>\n",
       "      <td>27.25</td>\n",
       "      <td>29.30343</td>\n",
       "      <td>15.64</td>\n",
       "    </tr>\n",
       "  </tbody>\n",
       "</table>\n",
       "</div>"
      ],
      "text/plain": [
       "                    PAR in PAR tot  Avg Temperature  Avg RH  Soil Heat flux  \\\n",
       "TimeStamp                                                                     \n",
       "2018-03-01 12:05:00  693.5   3.468            27.27   28.84        28.99074   \n",
       "2018-03-01 12:10:00    NAN     NAN            27.21   28.65        29.13963   \n",
       "2018-03-01 12:15:00    692    3.46            27.20   28.29        29.29271   \n",
       "2018-03-01 12:20:00  687.6   3.438            28.05   26.94        29.33599   \n",
       "2018-03-01 12:25:00  688.9   3.444            27.85   27.25        29.30343   \n",
       "\n",
       "                     Soil heat cal  \n",
       "TimeStamp                           \n",
       "2018-03-01 12:05:00          15.64  \n",
       "2018-03-01 12:10:00          15.64  \n",
       "2018-03-01 12:15:00          15.64  \n",
       "2018-03-01 12:20:00          15.64  \n",
       "2018-03-01 12:25:00          15.64  "
      ]
     },
     "execution_count": 3,
     "metadata": {},
     "output_type": "execute_result"
    }
   ],
   "source": [
    "df['TimeStamp'] = pd.to_datetime(df['TimeStamp'])\n",
    "df = df.set_index('TimeStamp')\n",
    "\n",
    "df.head()\n"
   ]
  },
  {
   "cell_type": "code",
   "execution_count": 9,
   "metadata": {
    "scrolled": true
   },
   "outputs": [
    {
     "data": {
      "text/html": [
       "<div>\n",
       "<style scoped>\n",
       "    .dataframe tbody tr th:only-of-type {\n",
       "        vertical-align: middle;\n",
       "    }\n",
       "\n",
       "    .dataframe tbody tr th {\n",
       "        vertical-align: top;\n",
       "    }\n",
       "\n",
       "    .dataframe thead th {\n",
       "        text-align: right;\n",
       "    }\n",
       "</style>\n",
       "<table border=\"1\" class=\"dataframe\">\n",
       "  <thead>\n",
       "    <tr style=\"text-align: right;\">\n",
       "      <th></th>\n",
       "      <th>PAR in</th>\n",
       "      <th>PAR tot</th>\n",
       "      <th>Avg Temperature</th>\n",
       "      <th>Avg RH</th>\n",
       "      <th>Soil Heat flux</th>\n",
       "      <th>Soil heat cal</th>\n",
       "    </tr>\n",
       "    <tr>\n",
       "      <th>TimeStamp</th>\n",
       "      <th></th>\n",
       "      <th></th>\n",
       "      <th></th>\n",
       "      <th></th>\n",
       "      <th></th>\n",
       "      <th></th>\n",
       "    </tr>\n",
       "  </thead>\n",
       "  <tbody>\n",
       "    <tr>\n",
       "      <th>2018-03-01 12:05:00</th>\n",
       "      <td>693.5</td>\n",
       "      <td>3.468</td>\n",
       "      <td>27.27</td>\n",
       "      <td>28.84</td>\n",
       "      <td>28.99074</td>\n",
       "      <td>15.64</td>\n",
       "    </tr>\n",
       "    <tr>\n",
       "      <th>2018-03-01 12:10:00</th>\n",
       "      <td>NAN</td>\n",
       "      <td>NAN</td>\n",
       "      <td>27.21</td>\n",
       "      <td>28.65</td>\n",
       "      <td>29.13963</td>\n",
       "      <td>15.64</td>\n",
       "    </tr>\n",
       "    <tr>\n",
       "      <th>2018-03-01 12:15:00</th>\n",
       "      <td>692</td>\n",
       "      <td>3.46</td>\n",
       "      <td>27.20</td>\n",
       "      <td>28.29</td>\n",
       "      <td>29.29271</td>\n",
       "      <td>15.64</td>\n",
       "    </tr>\n",
       "    <tr>\n",
       "      <th>2018-03-01 12:20:00</th>\n",
       "      <td>687.6</td>\n",
       "      <td>3.438</td>\n",
       "      <td>28.05</td>\n",
       "      <td>26.94</td>\n",
       "      <td>29.33599</td>\n",
       "      <td>15.64</td>\n",
       "    </tr>\n",
       "    <tr>\n",
       "      <th>2018-03-01 12:25:00</th>\n",
       "      <td>688.9</td>\n",
       "      <td>3.444</td>\n",
       "      <td>27.85</td>\n",
       "      <td>27.25</td>\n",
       "      <td>29.30343</td>\n",
       "      <td>15.64</td>\n",
       "    </tr>\n",
       "  </tbody>\n",
       "</table>\n",
       "</div>"
      ],
      "text/plain": [
       "                    PAR in PAR tot  Avg Temperature  Avg RH  Soil Heat flux  \\\n",
       "TimeStamp                                                                     \n",
       "2018-03-01 12:05:00  693.5   3.468            27.27   28.84        28.99074   \n",
       "2018-03-01 12:10:00    NAN     NAN            27.21   28.65        29.13963   \n",
       "2018-03-01 12:15:00    692    3.46            27.20   28.29        29.29271   \n",
       "2018-03-01 12:20:00  687.6   3.438            28.05   26.94        29.33599   \n",
       "2018-03-01 12:25:00  688.9   3.444            27.85   27.25        29.30343   \n",
       "\n",
       "                     Soil heat cal  \n",
       "TimeStamp                           \n",
       "2018-03-01 12:05:00          15.64  \n",
       "2018-03-01 12:10:00          15.64  \n",
       "2018-03-01 12:15:00          15.64  \n",
       "2018-03-01 12:20:00          15.64  \n",
       "2018-03-01 12:25:00          15.64  "
      ]
     },
     "execution_count": 9,
     "metadata": {},
     "output_type": "execute_result"
    }
   ],
   "source": [
    "import glob\n",
    "files = glob.glob('*.csv') #read all csv files in folder\n",
    "#print(files)\n",
    "df2 = pd.concat([pd.read_csv(f,header=3, names=[\"TimeStamp\", \"Record\",\"PAR in\", \"PAR tot\", \"Avg Temperature\", \"Avg RH\", \"Soil Heat flux\", \"Soil heat cal\"], index_col=1) for f in files], ignore_index = True)\n",
    "#import all csv files with the header and index \n",
    "df2 = df2.set_index('TimeStamp')\n",
    "\n",
    "df2.head()"
   ]
  },
  {
   "cell_type": "code",
   "execution_count": 10,
   "metadata": {},
   "outputs": [
    {
     "data": {
      "image/png": "[encoded data removed]",
      "text/plain": [
       "<Figure size 432x288 with 2 Axes>"
      ]
     },
     "metadata": {},
     "output_type": "display_data"
    }
   ],
   "source": [
    "fig,ax1 =plt.subplots()\n",
    "\n",
    "ax1=df[\"Avg Temperature\"].plot(color=\"red\")\n",
    "ax1.set_ylabel(\"Temperature, °C\",color=\"red\")\n",
    "ax1.set_xlabel(\"Time\")\n",
    "ax1.tick_params(axis='y', labelcolor=\"red\")\n",
    "\n",
    "ax2 = ax1.twinx()\n",
    "ax2=df[\"Avg RH\"].plot(color=\"blue\")\n",
    "ax2.set_ylabel(\"Relative Humidity, %\", color=\"blue\")\n",
    "ax2.tick_params(axis='y', labelcolor=\"blue\")\n",
    "\n",
    "plt.show()"
   ]
  },
  {
   "cell_type": "code",
   "execution_count": 11,
   "metadata": {},
   "outputs": [
    {
     "data": {
      "image/png": "[encoded data removed]",
      "text/plain": [
       "<Figure size 432x288 with 2 Axes>"
      ]
     },
     "metadata": {},
     "output_type": "display_data"
    }
   ],
   "source": [
    "fig,ax1 =plt.subplots()\n",
    "\n",
    "ax1=df2[\"Avg Temperature\"].plot(color=\"red\")\n",
    "ax1.set_ylabel(\"Temperature, °C\",color=\"red\")\n",
    "ax1.set_xlabel(\"Time\")\n",
    "ax1.tick_params(axis='y', labelcolor=\"red\")\n",
    "\n",
    "ax2 = ax1.twinx()\n",
    "ax2=df2[\"Avg RH\"].plot(color=\"blue\")\n",
    "ax2.set_ylabel(\"Relative Humidity, %\", color=\"blue\")\n",
    "ax2.tick_params(axis='y', labelcolor=\"blue\")\n",
    "\n",
    "plt.show()"
   ]
  },
  {
   "cell_type": "code",
   "execution_count": null,
   "metadata": {},
   "outputs": [],
   "source": []
  },
  {
   "cell_type": "code",
   "execution_count": null,
   "metadata": {},
   "outputs": [],
   "source": []
  }
 ],
 "metadata": {
  "kernelspec": {
   "display_name": "Python 3",
   "language": "python",
   "name": "python3"
  },
  "language_info": {
   "codemirror_mode": {
    "name": "ipython",
    "version": 3
   },
   "file_extension": ".py",
   "mimetype": "text/x-python",
   "name": "python",
   "nbconvert_exporter": "python",
   "pygments_lexer": "ipython3",
   "version": "3.6.8"
  }
 },
 "nbformat": 4,
 "nbformat_minor": 2
}
