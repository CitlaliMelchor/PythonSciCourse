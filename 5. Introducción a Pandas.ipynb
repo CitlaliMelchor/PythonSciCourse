{
 "cells": [
  {
   "cell_type": "markdown",
   "metadata": {},
   "source": [
    "# Introducción a Pandas\n",
    "03.02.19"
   ]
  },
  {
   "cell_type": "code",
   "execution_count": 1,
   "metadata": {},
   "outputs": [],
   "source": [
    "import pandas as pd\n",
    "import numpy as np"
   ]
  },
  {
   "cell_type": "markdown",
   "metadata": {},
   "source": [
    "## Series"
   ]
  },
  {
   "cell_type": "code",
   "execution_count": 2,
   "metadata": {},
   "outputs": [
    {
     "name": "stdout",
     "output_type": "stream",
     "text": [
      "0    15\n",
      "1    18\n",
      "2    29\n",
      "3    33\n",
      "dtype: int64\n"
     ]
    }
   ],
   "source": [
    "s1=pd.Series([15, 18, 29, 33])\n",
    "print(s1)"
   ]
  },
  {
   "cell_type": "code",
   "execution_count": 3,
   "metadata": {},
   "outputs": [
    {
     "name": "stdout",
     "output_type": "stream",
     "text": [
      "0     10\n",
      "1     11\n",
      "2     12\n",
      "3     13\n",
      "4     14\n",
      "5     15\n",
      "6     16\n",
      "7     17\n",
      "8     18\n",
      "9     19\n",
      "10    20\n",
      "dtype: int64\n"
     ]
    }
   ],
   "source": [
    "s1=pd.Series(range(10,21))\n",
    "print(s1)"
   ]
  },
  {
   "cell_type": "code",
   "execution_count": 6,
   "metadata": {},
   "outputs": [
    {
     "name": "stdout",
     "output_type": "stream",
     "text": [
      "0    7\n",
      "1    2\n",
      "2    1\n",
      "3    2\n",
      "4    1\n",
      "dtype: int32\n"
     ]
    }
   ],
   "source": [
    "s1=pd.Series(np.random.randint(1, 10, 5))\n",
    "print(s1)"
   ]
  },
  {
   "cell_type": "markdown",
   "metadata": {},
   "source": [
    "`pd.Series` genera una Serie a partir de una lista iterable\n",
    "\n",
    "Al definir la serie, los índices son calculados automáticamente partiendo de cero. Si quisiéramos utilizar nuestros propios índices para fines de agrupamiento, podemos hacerlo a través del parámetro opcional `index`"
   ]
  },
  {
   "cell_type": "code",
   "execution_count": 11,
   "metadata": {},
   "outputs": [
    {
     "name": "stdout",
     "output_type": "stream",
     "text": [
      "A    12\n",
      "B    15\n",
      "C    16\n",
      "D    18\n",
      "dtype: int64\n"
     ]
    }
   ],
   "source": [
    "s1=pd.Series([12,15,16,18], index=[\"A\", \"B\", \"C\", \"D\"])\n",
    "print(s1)"
   ]
  },
  {
   "cell_type": "code",
   "execution_count": 12,
   "metadata": {},
   "outputs": [
    {
     "name": "stdout",
     "output_type": "stream",
     "text": [
      "A    42\n",
      "B    44\n",
      "C    40\n",
      "D    88\n",
      "dtype: int64\n"
     ]
    }
   ],
   "source": [
    "s2=pd.Series([30,29,24,70], index=[\"A\", \"B\", \"C\", \"D\"])\n",
    "print(s1+s2)"
   ]
  },
  {
   "cell_type": "markdown",
   "metadata": {},
   "source": [
    "Podemos también crear una serie a partir de un diccionario, dónde las claves del diccionario se volverían los índices de la serie"
   ]
  },
  {
   "cell_type": "code",
   "execution_count": 13,
   "metadata": {},
   "outputs": [
    {
     "name": "stdout",
     "output_type": "stream",
     "text": [
      "a    10\n",
      "b    20\n",
      "c    40\n",
      "dtype: int64\n"
     ]
    }
   ],
   "source": [
    "d1={\"a\":10, \"b\":20, \"c\":40}\n",
    "s1=pd.Series(d1)\n",
    "print(s1)"
   ]
  },
  {
   "cell_type": "code",
   "execution_count": 14,
   "metadata": {},
   "outputs": [
    {
     "name": "stdout",
     "output_type": "stream",
     "text": [
      "a    15\n",
      "b    27\n",
      "c    49\n",
      "dtype: int64\n"
     ]
    }
   ],
   "source": [
    "d2={\"a\":5,\"b\":7, \"c\":9}\n",
    "s2=pd.Series(d2)\n",
    "print(s1+s2)"
   ]
  },
  {
   "cell_type": "markdown",
   "metadata": {},
   "source": [
    "En el siguiente ejemplo vamos a construir una serie con los 365 días de un año."
   ]
  },
  {
   "cell_type": "code",
   "execution_count": 15,
   "metadata": {},
   "outputs": [
    {
     "name": "stdout",
     "output_type": "stream",
     "text": [
      "DatetimeIndex(['2019-01-01', '2019-01-02', '2019-01-03', '2019-01-04',\n",
      "               '2019-01-05', '2019-01-06', '2019-01-07', '2019-01-08',\n",
      "               '2019-01-09', '2019-01-10',\n",
      "               ...\n",
      "               '2019-12-22', '2019-12-23', '2019-12-24', '2019-12-25',\n",
      "               '2019-12-26', '2019-12-27', '2019-12-28', '2019-12-29',\n",
      "               '2019-12-30', '2019-12-31'],\n",
      "              dtype='datetime64[ns]', length=365, freq='D')\n"
     ]
    }
   ],
   "source": [
    "s1=pd.date_range(\"20190101\", periods=365)\n",
    "print(s1)"
   ]
  },
  {
   "cell_type": "code",
   "execution_count": 19,
   "metadata": {},
   "outputs": [
    {
     "name": "stdout",
     "output_type": "stream",
     "text": [
      "DatetimeIndex(['2019-01-01', '2019-01-02', '2019-01-03', '2019-01-04',\n",
      "               '2019-01-07', '2019-01-08', '2019-01-09', '2019-01-10',\n",
      "               '2019-01-11', '2019-01-14', '2019-01-15', '2019-01-16',\n",
      "               '2019-01-17', '2019-01-18'],\n",
      "              dtype='datetime64[ns]', freq='B')\n"
     ]
    }
   ],
   "source": [
    "s1=pd.date_range(start=\"20190101\",end=\"20190120\", freq=\"b\") #solo los días laborales entre el 01.01.19 y el 01.20.19\n",
    "print(s1)"
   ]
  },
  {
   "cell_type": "markdown",
   "metadata": {},
   "source": [
    "## DataFrame"
   ]
  },
  {
   "cell_type": "code",
   "execution_count": 22,
   "metadata": {},
   "outputs": [
    {
     "name": "stdout",
     "output_type": "stream",
     "text": [
      "  nombre  edad género\n",
      "0    Ana    17      M\n",
      "1   Paco    18      H\n",
      "2  Diana    23      M\n",
      "3   Luis    21      H\n"
     ]
    }
   ],
   "source": [
    "d={\n",
    "    \"nombre\": [\"Ana\", \"Paco\", \"Diana\", \"Luis\"],\n",
    "    \"edad\": [17,18,23,21],\n",
    "    \"género\": [\"M\", \"H\", \"M\", \"H\"]\n",
    "}\n",
    "df=pd.DataFrame(d)\n",
    "print(df)"
   ]
  },
  {
   "cell_type": "code",
   "execution_count": 23,
   "metadata": {},
   "outputs": [
    {
     "name": "stdout",
     "output_type": "stream",
     "text": [
      "  nombre  edad género\n",
      "2  Diana    23      M\n",
      "3   Luis    21      H\n"
     ]
    }
   ],
   "source": [
    "df2=pd.DataFrame(df,index=[2,3])\n",
    "print(df2)"
   ]
  },
  {
   "cell_type": "code",
   "execution_count": 24,
   "metadata": {},
   "outputs": [
    {
     "name": "stdout",
     "output_type": "stream",
     "text": [
      "  nombre  edad género\n",
      "2  Diana    23      M\n",
      "3   Luis    21      H\n"
     ]
    }
   ],
   "source": [
    "print(df[2:])"
   ]
  },
  {
   "cell_type": "code",
   "execution_count": 29,
   "metadata": {},
   "outputs": [
    {
     "name": "stdout",
     "output_type": "stream",
     "text": [
      "Index(['nombre', 'edad', 'género'], dtype='object')\n"
     ]
    }
   ],
   "source": [
    "dfT=df.T\n",
    "print(dfT.index)"
   ]
  },
  {
   "cell_type": "code",
   "execution_count": null,
   "metadata": {},
   "outputs": [],
   "source": []
  }
 ],
 "metadata": {
  "kernelspec": {
   "display_name": "Python 3",
   "language": "python",
   "name": "python3"
  },
  "language_info": {
   "codemirror_mode": {
    "name": "ipython",
    "version": 3
   },
   "file_extension": ".py",
   "mimetype": "text/x-python",
   "name": "python",
   "nbconvert_exporter": "python",
   "pygments_lexer": "ipython3",
   "version": "3.6.5"
  }
 },
 "nbformat": 4,
 "nbformat_minor": 2
}
