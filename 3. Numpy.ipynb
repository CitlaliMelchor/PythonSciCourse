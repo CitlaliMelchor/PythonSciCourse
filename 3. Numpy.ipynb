{
 "cells": [
  {
   "cell_type": "markdown",
   "metadata": {},
   "source": [
    "# 3. Introducción a NumPy\n",
    "NumPy es una librería que nos permite un manejo eficiente de arreglos extremadamente grandes, los guales sustituyen a las listas de Python (solo para manejar listas como arreglos o vectores).\n",
    "\n",
    "El arreglo de NumPy es una forma multidimensional que puede ser manipulada como un arreglo de 1-D, 2-D, 3-D, etc. La idea es que Numpy trabaje nuestros datos de forma más eficiente que las listas de Python, ya que tiene interoperabilidad con librerías de C.\n",
    "\n",
    "Vamos a ver lo más importante de NumPy basándonos en el siguiente tutorial, siguiendo la documentación oficial."
   ]
  },
  {
   "cell_type": "code",
   "execution_count": 38,
   "metadata": {},
   "outputs": [
    {
     "name": "stdout",
     "output_type": "stream",
     "text": [
      "[[1. 2. 3.]\n",
      " [2. 4. 6.]]\n",
      "size = 6 || shape = (2, 3) || ndim = 2\n"
     ]
    }
   ],
   "source": [
    "import numpy as np\n",
    "import matplotlib.pyplot as plt\n",
    "\n",
    "a=np.array([[1.,2.,3.], [2.,4.,6.]]) #arreglo de Numpy\n",
    "\n",
    "size=a.size #número de elementos\n",
    "shape=a.shape #dimensiones del arreglo\n",
    "dim=a.ndim #npumero de ejes\n",
    "\n",
    "print (a)\n",
    "print (\"size =\", size, \"|| shape =\", shape, \"|| ndim =\", dim)"
   ]
  },
  {
   "cell_type": "code",
   "execution_count": 18,
   "metadata": {},
   "outputs": [
    {
     "name": "stdout",
     "output_type": "stream",
     "text": [
      "[2 4 6]\n",
      "<class 'numpy.ndarray'>\n",
      "int32\n",
      "4\n",
      "Bytes size: 12 bytes\n"
     ]
    }
   ],
   "source": [
    "a1=np.array([2,4,6])\n",
    "print(a1)\n",
    "print(type(a1))\n",
    "print(a1.dtype)\n",
    "print(a1.itemsize)\n",
    "print(\"Bytes size: {} bytes\".format(a1.size * a1.itemsize))"
   ]
  },
  {
   "cell_type": "code",
   "execution_count": 25,
   "metadata": {},
   "outputs": [
    {
     "name": "stdout",
     "output_type": "stream",
     "text": [
      "[[0. 0. 0.]\n",
      " [0. 0. 0.]]\n"
     ]
    }
   ],
   "source": [
    "a2=np.arange(100)\n",
    "a3=np.zeros((2,3))\n",
    "print(a3)"
   ]
  },
  {
   "cell_type": "code",
   "execution_count": 33,
   "metadata": {},
   "outputs": [],
   "source": [
    "im=np.zeros((10,10,3))\n",
    "#print(im)"
   ]
  },
  {
   "cell_type": "code",
   "execution_count": 29,
   "metadata": {},
   "outputs": [
    {
     "name": "stdout",
     "output_type": "stream",
     "text": [
      "[10 11 12 13 14 15 16 17 18 19]\n"
     ]
    }
   ],
   "source": [
    "v1=np.arange(10,20)\n",
    "print (v1)"
   ]
  },
  {
   "cell_type": "code",
   "execution_count": 32,
   "metadata": {},
   "outputs": [
    {
     "name": "stdout",
     "output_type": "stream",
     "text": [
      "[[ 1  2  3  4]\n",
      " [ 5  6  7  8]\n",
      " [ 9 10 11 12]\n",
      " [13 14 15 16]]\n"
     ]
    }
   ],
   "source": [
    "m1=np.arange(1,17).reshape(4,4) #darle una nueva forma a un arreglo lineal a una matriz de 4x4\n",
    "print(m1)"
   ]
  },
  {
   "cell_type": "markdown",
   "metadata": {},
   "source": [
    "#### Crear matrices con números aleatorios"
   ]
  },
  {
   "cell_type": "code",
   "execution_count": 49,
   "metadata": {},
   "outputs": [
    {
     "name": "stdout",
     "output_type": "stream",
     "text": [
      "[-1.19495549  2.46554992 -0.11388283  1.38245494 -1.00985259 -0.92990735\n",
      " -1.59247234 -1.3797211  -0.54886408 -0.458264  ]\n"
     ]
    }
   ],
   "source": [
    "v2=np.random.randn(10)\n",
    "x=np.array([1,2,3,4,5,6,7,8,9,10])\n",
    "print(v2)\n",
    "#plt.plot(x,v2)"
   ]
  },
  {
   "cell_type": "code",
   "execution_count": 42,
   "metadata": {},
   "outputs": [
    {
     "name": "stdout",
     "output_type": "stream",
     "text": [
      "[1.233539   2.75088404 2.91031523 1.4877576  2.43468743]\n"
     ]
    }
   ],
   "source": [
    "v=np.random.uniform(1,3,5) #5 muestras aleatorias entre 1 y 3\n",
    "print(v)"
   ]
  },
  {
   "cell_type": "code",
   "execution_count": 48,
   "metadata": {},
   "outputs": [
    {
     "name": "stdout",
     "output_type": "stream",
     "text": [
      "[[[ 61 130  19]\n",
      "  [213 186 118]]\n",
      "\n",
      " [[197  78 210]\n",
      "  [199  98 153]]]\n"
     ]
    }
   ],
   "source": [
    "im=np.random.randint(0,256,2*2*3). reshape(2,2,3)\n",
    "print(im)"
   ]
  },
  {
   "cell_type": "code",
   "execution_count": 51,
   "metadata": {},
   "outputs": [
    {
     "name": "stdout",
     "output_type": "stream",
     "text": [
      "[1 4 9 9 9 1]\n"
     ]
    }
   ],
   "source": [
    "v=np.random.choice([1,4,9],6)\n",
    "print(v)"
   ]
  },
  {
   "cell_type": "code",
   "execution_count": 60,
   "metadata": {},
   "outputs": [
    {
     "name": "stdout",
     "output_type": "stream",
     "text": [
      "[[2.90954398 4.14586682 2.07465596]\n",
      " [5.07279295 3.60162284 5.01651573]]\n"
     ]
    }
   ],
   "source": [
    "v=np.random.normal(4,0.8,[2,3])\n",
    "print(v)\n",
    "#print(sum(v)/len(v)) #media del arreglo\n",
    "#plt.plot(v)"
   ]
  },
  {
   "cell_type": "code",
   "execution_count": null,
   "metadata": {},
   "outputs": [],
   "source": []
  }
 ],
 "metadata": {
  "kernelspec": {
   "display_name": "Python 3",
   "language": "python",
   "name": "python3"
  },
  "language_info": {
   "codemirror_mode": {
    "name": "ipython",
    "version": 3
   },
   "file_extension": ".py",
   "mimetype": "text/x-python",
   "name": "python",
   "nbconvert_exporter": "python",
   "pygments_lexer": "ipython3",
   "version": "3.6.5"
  }
 },
 "nbformat": 4,
 "nbformat_minor": 2
}
