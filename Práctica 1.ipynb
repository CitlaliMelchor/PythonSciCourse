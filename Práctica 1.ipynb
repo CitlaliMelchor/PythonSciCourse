{
 "cells": [
  {
   "cell_type": "markdown",
   "metadata": {},
   "source": [
    "# Práctica 1\n",
    "Citlali Melchor Ramírez"
   ]
  },
  {
   "cell_type": "markdown",
   "metadata": {},
   "source": [
    "#### 1. Construir o adquirir un archivo csv que contenga columnas de tipo categóricas y escalares\n",
    "El dataset FAO_FoodFeed.csv se obtuvo de kaggle.\n",
    "\n",
    "*\"This dataset provides an insight on our worldwide food production - focusing on a comparison between food produced for human consumption and feed produced for animals.\"*\n"
   ]
  },
  {
   "cell_type": "code",
   "execution_count": 14,
   "metadata": {},
   "outputs": [],
   "source": [
    "import numpy as np\n",
    "import pandas as pd\n",
    "import matplotlib.pyplot as plt"
   ]
  },
  {
   "cell_type": "markdown",
   "metadata": {},
   "source": [
    "#### 2. Cargar los datos del archivo en un dataframe de pandas con la función pd.read_csv(…)"
   ]
  },
  {
   "cell_type": "code",
   "execution_count": 15,
   "metadata": {},
   "outputs": [],
   "source": [
    "df=pd.read_csv(\"FAO_FoodFeed.csv\",encoding = \"ISO-8859-1\")"
   ]
  },
  {
   "cell_type": "code",
   "execution_count": 16,
   "metadata": {},
   "outputs": [
    {
     "data": {
      "text/html": [
       "<div>\n",
       "<style scoped>\n",
       "    .dataframe tbody tr th:only-of-type {\n",
       "        vertical-align: middle;\n",
       "    }\n",
       "\n",
       "    .dataframe tbody tr th {\n",
       "        vertical-align: top;\n",
       "    }\n",
       "\n",
       "    .dataframe thead th {\n",
       "        text-align: right;\n",
       "    }\n",
       "</style>\n",
       "<table border=\"1\" class=\"dataframe\">\n",
       "  <thead>\n",
       "    <tr style=\"text-align: right;\">\n",
       "      <th></th>\n",
       "      <th>Area Abbreviation</th>\n",
       "      <th>Area Code</th>\n",
       "      <th>Area</th>\n",
       "      <th>Item Code</th>\n",
       "      <th>Item</th>\n",
       "      <th>Element Code</th>\n",
       "      <th>Element</th>\n",
       "      <th>Unit</th>\n",
       "      <th>latitude</th>\n",
       "      <th>longitude</th>\n",
       "      <th>...</th>\n",
       "      <th>Y2004</th>\n",
       "      <th>Y2005</th>\n",
       "      <th>Y2006</th>\n",
       "      <th>Y2007</th>\n",
       "      <th>Y2008</th>\n",
       "      <th>Y2009</th>\n",
       "      <th>Y2010</th>\n",
       "      <th>Y2011</th>\n",
       "      <th>Y2012</th>\n",
       "      <th>Y2013</th>\n",
       "    </tr>\n",
       "  </thead>\n",
       "  <tbody>\n",
       "    <tr>\n",
       "      <th>0</th>\n",
       "      <td>AFG</td>\n",
       "      <td>2</td>\n",
       "      <td>Afghanistan</td>\n",
       "      <td>2511</td>\n",
       "      <td>Wheat and products</td>\n",
       "      <td>5142</td>\n",
       "      <td>Food</td>\n",
       "      <td>1000 tonnes</td>\n",
       "      <td>33.94</td>\n",
       "      <td>67.71</td>\n",
       "      <td>...</td>\n",
       "      <td>3249.0</td>\n",
       "      <td>3486.0</td>\n",
       "      <td>3704.0</td>\n",
       "      <td>4164.0</td>\n",
       "      <td>4252.0</td>\n",
       "      <td>4538.0</td>\n",
       "      <td>4605.0</td>\n",
       "      <td>4711.0</td>\n",
       "      <td>4810</td>\n",
       "      <td>4895</td>\n",
       "    </tr>\n",
       "    <tr>\n",
       "      <th>1</th>\n",
       "      <td>AFG</td>\n",
       "      <td>2</td>\n",
       "      <td>Afghanistan</td>\n",
       "      <td>2805</td>\n",
       "      <td>Rice (Milled Equivalent)</td>\n",
       "      <td>5142</td>\n",
       "      <td>Food</td>\n",
       "      <td>1000 tonnes</td>\n",
       "      <td>33.94</td>\n",
       "      <td>67.71</td>\n",
       "      <td>...</td>\n",
       "      <td>419.0</td>\n",
       "      <td>445.0</td>\n",
       "      <td>546.0</td>\n",
       "      <td>455.0</td>\n",
       "      <td>490.0</td>\n",
       "      <td>415.0</td>\n",
       "      <td>442.0</td>\n",
       "      <td>476.0</td>\n",
       "      <td>425</td>\n",
       "      <td>422</td>\n",
       "    </tr>\n",
       "    <tr>\n",
       "      <th>2</th>\n",
       "      <td>AFG</td>\n",
       "      <td>2</td>\n",
       "      <td>Afghanistan</td>\n",
       "      <td>2513</td>\n",
       "      <td>Barley and products</td>\n",
       "      <td>5521</td>\n",
       "      <td>Feed</td>\n",
       "      <td>1000 tonnes</td>\n",
       "      <td>33.94</td>\n",
       "      <td>67.71</td>\n",
       "      <td>...</td>\n",
       "      <td>58.0</td>\n",
       "      <td>236.0</td>\n",
       "      <td>262.0</td>\n",
       "      <td>263.0</td>\n",
       "      <td>230.0</td>\n",
       "      <td>379.0</td>\n",
       "      <td>315.0</td>\n",
       "      <td>203.0</td>\n",
       "      <td>367</td>\n",
       "      <td>360</td>\n",
       "    </tr>\n",
       "    <tr>\n",
       "      <th>3</th>\n",
       "      <td>AFG</td>\n",
       "      <td>2</td>\n",
       "      <td>Afghanistan</td>\n",
       "      <td>2513</td>\n",
       "      <td>Barley and products</td>\n",
       "      <td>5142</td>\n",
       "      <td>Food</td>\n",
       "      <td>1000 tonnes</td>\n",
       "      <td>33.94</td>\n",
       "      <td>67.71</td>\n",
       "      <td>...</td>\n",
       "      <td>185.0</td>\n",
       "      <td>43.0</td>\n",
       "      <td>44.0</td>\n",
       "      <td>48.0</td>\n",
       "      <td>62.0</td>\n",
       "      <td>55.0</td>\n",
       "      <td>60.0</td>\n",
       "      <td>72.0</td>\n",
       "      <td>78</td>\n",
       "      <td>89</td>\n",
       "    </tr>\n",
       "    <tr>\n",
       "      <th>4</th>\n",
       "      <td>AFG</td>\n",
       "      <td>2</td>\n",
       "      <td>Afghanistan</td>\n",
       "      <td>2514</td>\n",
       "      <td>Maize and products</td>\n",
       "      <td>5521</td>\n",
       "      <td>Feed</td>\n",
       "      <td>1000 tonnes</td>\n",
       "      <td>33.94</td>\n",
       "      <td>67.71</td>\n",
       "      <td>...</td>\n",
       "      <td>120.0</td>\n",
       "      <td>208.0</td>\n",
       "      <td>233.0</td>\n",
       "      <td>249.0</td>\n",
       "      <td>247.0</td>\n",
       "      <td>195.0</td>\n",
       "      <td>178.0</td>\n",
       "      <td>191.0</td>\n",
       "      <td>200</td>\n",
       "      <td>200</td>\n",
       "    </tr>\n",
       "  </tbody>\n",
       "</table>\n",
       "<p>5 rows × 63 columns</p>\n",
       "</div>"
      ],
      "text/plain": [
       "  Area Abbreviation  Area Code         Area  Item Code  \\\n",
       "0               AFG          2  Afghanistan       2511   \n",
       "1               AFG          2  Afghanistan       2805   \n",
       "2               AFG          2  Afghanistan       2513   \n",
       "3               AFG          2  Afghanistan       2513   \n",
       "4               AFG          2  Afghanistan       2514   \n",
       "\n",
       "                       Item  Element Code Element         Unit  latitude  \\\n",
       "0        Wheat and products          5142    Food  1000 tonnes     33.94   \n",
       "1  Rice (Milled Equivalent)          5142    Food  1000 tonnes     33.94   \n",
       "2       Barley and products          5521    Feed  1000 tonnes     33.94   \n",
       "3       Barley and products          5142    Food  1000 tonnes     33.94   \n",
       "4        Maize and products          5521    Feed  1000 tonnes     33.94   \n",
       "\n",
       "   longitude  ...     Y2004   Y2005   Y2006   Y2007   Y2008   Y2009   Y2010  \\\n",
       "0      67.71  ...    3249.0  3486.0  3704.0  4164.0  4252.0  4538.0  4605.0   \n",
       "1      67.71  ...     419.0   445.0   546.0   455.0   490.0   415.0   442.0   \n",
       "2      67.71  ...      58.0   236.0   262.0   263.0   230.0   379.0   315.0   \n",
       "3      67.71  ...     185.0    43.0    44.0    48.0    62.0    55.0    60.0   \n",
       "4      67.71  ...     120.0   208.0   233.0   249.0   247.0   195.0   178.0   \n",
       "\n",
       "    Y2011  Y2012  Y2013  \n",
       "0  4711.0   4810   4895  \n",
       "1   476.0    425    422  \n",
       "2   203.0    367    360  \n",
       "3    72.0     78     89  \n",
       "4   191.0    200    200  \n",
       "\n",
       "[5 rows x 63 columns]"
      ]
     },
     "execution_count": 16,
     "metadata": {},
     "output_type": "execute_result"
    }
   ],
   "source": [
    "df.head()"
   ]
  },
  {
   "cell_type": "markdown",
   "metadata": {},
   "source": [
    "#### 3. Seleccionar una columna que sea de tipo categórica y mostrar sus elementos\n",
    "columna `Item`"
   ]
  },
  {
   "cell_type": "code",
   "execution_count": 17,
   "metadata": {},
   "outputs": [
    {
     "data": {
      "text/plain": [
       "0                  Wheat and products\n",
       "1            Rice (Milled Equivalent)\n",
       "2                 Barley and products\n",
       "3                 Barley and products\n",
       "4                  Maize and products\n",
       "5                  Maize and products\n",
       "6                 Millet and products\n",
       "7                      Cereals, Other\n",
       "8               Potatoes and products\n",
       "9                          Sugar cane\n",
       "10                         Sugar beet\n",
       "11             Sugar (Raw Equivalent)\n",
       "12                  Sweeteners, Other\n",
       "13                              Honey\n",
       "14         Pulses, Other and products\n",
       "15         Pulses, Other and products\n",
       "16                  Nuts and products\n",
       "17              Coconuts - Incl Copra\n",
       "18                        Sesame seed\n",
       "19       Olives (including preserved)\n",
       "20                       Soyabean Oil\n",
       "21                      Groundnut Oil\n",
       "22                  Sunflowerseed Oil\n",
       "23               Rape and Mustard Oil\n",
       "24                     Cottonseed Oil\n",
       "25                           Palm Oil\n",
       "26                     Sesameseed Oil\n",
       "27                          Olive Oil\n",
       "28                Oilcrops Oil, Other\n",
       "29              Tomatoes and products\n",
       "                     ...             \n",
       "21447                     Crustaceans\n",
       "21448                     Cephalopods\n",
       "21449                 Molluscs, Other\n",
       "21450                  Aquatic Plants\n",
       "21451                     Infant food\n",
       "21452        Cereals - Excluding Beer\n",
       "21453        Cereals - Excluding Beer\n",
       "21454                   Starchy Roots\n",
       "21455                     Sugar Crops\n",
       "21456              Sugar & Sweeteners\n",
       "21457                          Pulses\n",
       "21458                        Treenuts\n",
       "21459                        Oilcrops\n",
       "21460                        Oilcrops\n",
       "21461                  Vegetable Oils\n",
       "21462                      Vegetables\n",
       "21463         Fruits - Excluding Wine\n",
       "21464                      Stimulants\n",
       "21465                          Spices\n",
       "21466             Alcoholic Beverages\n",
       "21467                            Meat\n",
       "21468                          Offals\n",
       "21469                     Animal fats\n",
       "21470                            Eggs\n",
       "21471         Milk - Excluding Butter\n",
       "21472         Milk - Excluding Butter\n",
       "21473                   Fish, Seafood\n",
       "21474                   Fish, Seafood\n",
       "21475         Aquatic Products, Other\n",
       "21476                   Miscellaneous\n",
       "Name: Item, Length: 21477, dtype: object"
      ]
     },
     "execution_count": 17,
     "metadata": {},
     "output_type": "execute_result"
    }
   ],
   "source": [
    "df.Item"
   ]
  },
  {
   "cell_type": "markdown",
   "metadata": {},
   "source": [
    "#### 4. Obtener la lista del conjunto de elementos distintos de la columna categórica seleccionada"
   ]
  },
  {
   "cell_type": "code",
   "execution_count": 18,
   "metadata": {},
   "outputs": [
    {
     "name": "stdout",
     "output_type": "stream",
     "text": [
      "['Alcoholic Beverages', 'Animal fats', 'Apples and products', 'Aquatic Animals, Others', 'Aquatic Plants', 'Aquatic Products, Other', 'Bananas', 'Barley and products', 'Beans', 'Beer', 'Beverages, Alcoholic', 'Beverages, Fermented', 'Bovine Meat', 'Butter, Ghee', 'Cassava and products', 'Cephalopods', 'Cereals - Excluding Beer', 'Cereals, Other', 'Citrus, Other', 'Cloves', 'Cocoa Beans and products', 'Coconut Oil', 'Coconuts - Incl Copra', 'Coffee and products', 'Cottonseed', 'Cottonseed Oil', 'Cream', 'Crustaceans', 'Dates', 'Demersal Fish', 'Eggs', 'Fats, Animals, Raw', 'Fish, Body Oil', 'Fish, Liver Oil', 'Fish, Seafood', 'Freshwater Fish', 'Fruits - Excluding Wine', 'Fruits, Other', 'Grapefruit and products', 'Grapes and products (excl wine)', 'Groundnut Oil', 'Groundnuts (Shelled Eq)', 'Honey', 'Infant food', 'Lemons, Limes and products', 'Maize Germ Oil', 'Maize and products', 'Marine Fish, Other', 'Meat', 'Meat, Aquatic Mammals', 'Meat, Other', 'Milk - Excluding Butter', 'Millet and products', 'Miscellaneous', 'Molluscs, Other', 'Mutton & Goat Meat', 'Nuts and products', 'Oats', 'Offals', 'Offals, Edible', 'Oilcrops', 'Oilcrops Oil, Other', 'Oilcrops, Other', 'Olive Oil', 'Olives (including preserved)', 'Onions', 'Oranges, Mandarines', 'Palm Oil', 'Palm kernels', 'Palmkernel Oil', 'Peas', 'Pelagic Fish', 'Pepper', 'Pigmeat', 'Pimento', 'Pineapples and products', 'Plantains', 'Potatoes and products', 'Poultry Meat', 'Pulses', 'Pulses, Other and products', 'Rape and Mustard Oil', 'Rape and Mustardseed', 'Rice (Milled Equivalent)', 'Ricebran Oil', 'Roots, Other', 'Rye and products', 'Sesame seed', 'Sesameseed Oil', 'Sorghum and products', 'Soyabean Oil', 'Soyabeans', 'Spices', 'Spices, Other', 'Starchy Roots', 'Stimulants', 'Sugar & Sweeteners', 'Sugar (Raw Equivalent)', 'Sugar Crops', 'Sugar beet', 'Sugar cane', 'Sugar non-centrifugal', 'Sunflower seed', 'Sunflowerseed Oil', 'Sweet potatoes', 'Sweeteners, Other', 'Tea (including mate)', 'Tomatoes and products', 'Treenuts', 'Vegetable Oils', 'Vegetables', 'Vegetables, Other', 'Wheat and products', 'Wine', 'Yams']\n"
     ]
    }
   ],
   "source": [
    "ITEMS=[]\n",
    "for i in df.Item:\n",
    "    if i not in ITEMS :\n",
    "        ITEMS.append(i)\n",
    "        ITEMS.sort()\n",
    "print(ITEMS)"
   ]
  },
  {
   "cell_type": "markdown",
   "metadata": {},
   "source": [
    "#### 5. Construir un diccionario que en cada clave contenga el nombre de cada categoría distinta encontrada y como valor cero"
   ]
  },
  {
   "cell_type": "code",
   "execution_count": 19,
   "metadata": {},
   "outputs": [
    {
     "name": "stdout",
     "output_type": "stream",
     "text": [
      "{'Alcoholic Beverages': 0, 'Animal fats': 0, 'Apples and products': 0, 'Aquatic Animals, Others': 0, 'Aquatic Plants': 0, 'Aquatic Products, Other': 0, 'Bananas': 0, 'Barley and products': 0, 'Beans': 0, 'Beer': 0, 'Beverages, Alcoholic': 0, 'Beverages, Fermented': 0, 'Bovine Meat': 0, 'Butter, Ghee': 0, 'Cassava and products': 0, 'Cephalopods': 0, 'Cereals - Excluding Beer': 0, 'Cereals, Other': 0, 'Citrus, Other': 0, 'Cloves': 0, 'Cocoa Beans and products': 0, 'Coconut Oil': 0, 'Coconuts - Incl Copra': 0, 'Coffee and products': 0, 'Cottonseed': 0, 'Cottonseed Oil': 0, 'Cream': 0, 'Crustaceans': 0, 'Dates': 0, 'Demersal Fish': 0, 'Eggs': 0, 'Fats, Animals, Raw': 0, 'Fish, Body Oil': 0, 'Fish, Liver Oil': 0, 'Fish, Seafood': 0, 'Freshwater Fish': 0, 'Fruits - Excluding Wine': 0, 'Fruits, Other': 0, 'Grapefruit and products': 0, 'Grapes and products (excl wine)': 0, 'Groundnut Oil': 0, 'Groundnuts (Shelled Eq)': 0, 'Honey': 0, 'Infant food': 0, 'Lemons, Limes and products': 0, 'Maize Germ Oil': 0, 'Maize and products': 0, 'Marine Fish, Other': 0, 'Meat': 0, 'Meat, Aquatic Mammals': 0, 'Meat, Other': 0, 'Milk - Excluding Butter': 0, 'Millet and products': 0, 'Miscellaneous': 0, 'Molluscs, Other': 0, 'Mutton & Goat Meat': 0, 'Nuts and products': 0, 'Oats': 0, 'Offals': 0, 'Offals, Edible': 0, 'Oilcrops': 0, 'Oilcrops Oil, Other': 0, 'Oilcrops, Other': 0, 'Olive Oil': 0, 'Olives (including preserved)': 0, 'Onions': 0, 'Oranges, Mandarines': 0, 'Palm Oil': 0, 'Palm kernels': 0, 'Palmkernel Oil': 0, 'Peas': 0, 'Pelagic Fish': 0, 'Pepper': 0, 'Pigmeat': 0, 'Pimento': 0, 'Pineapples and products': 0, 'Plantains': 0, 'Potatoes and products': 0, 'Poultry Meat': 0, 'Pulses': 0, 'Pulses, Other and products': 0, 'Rape and Mustard Oil': 0, 'Rape and Mustardseed': 0, 'Rice (Milled Equivalent)': 0, 'Ricebran Oil': 0, 'Roots, Other': 0, 'Rye and products': 0, 'Sesame seed': 0, 'Sesameseed Oil': 0, 'Sorghum and products': 0, 'Soyabean Oil': 0, 'Soyabeans': 0, 'Spices': 0, 'Spices, Other': 0, 'Starchy Roots': 0, 'Stimulants': 0, 'Sugar & Sweeteners': 0, 'Sugar (Raw Equivalent)': 0, 'Sugar Crops': 0, 'Sugar beet': 0, 'Sugar cane': 0, 'Sugar non-centrifugal': 0, 'Sunflower seed': 0, 'Sunflowerseed Oil': 0, 'Sweet potatoes': 0, 'Sweeteners, Other': 0, 'Tea (including mate)': 0, 'Tomatoes and products': 0, 'Treenuts': 0, 'Vegetable Oils': 0, 'Vegetables': 0, 'Vegetables, Other': 0, 'Wheat and products': 0, 'Wine': 0, 'Yams': 0}\n"
     ]
    }
   ],
   "source": [
    "dic={}\n",
    "for i in ITEMS :\n",
    "    dic.update({\"{}\".format(i):0})\n",
    "print(dic)"
   ]
  },
  {
   "cell_type": "markdown",
   "metadata": {},
   "source": [
    "#### 6.  Recorrer los elementos de la columna categórica y aumentar en una unidad el diccionario en la clave del diccionario anterior"
   ]
  },
  {
   "cell_type": "code",
   "execution_count": 20,
   "metadata": {},
   "outputs": [
    {
     "name": "stdout",
     "output_type": "stream",
     "text": [
      "{'Alcoholic Beverages': 173, 'Animal fats': 280, 'Apples and products': 194, 'Aquatic Animals, Others': 135, 'Aquatic Plants': 164, 'Aquatic Products, Other': 169, 'Bananas': 186, 'Barley and products': 276, 'Beans': 195, 'Beer': 173, 'Beverages, Alcoholic': 171, 'Beverages, Fermented': 162, 'Bovine Meat': 177, 'Butter, Ghee': 180, 'Cassava and products': 225, 'Cephalopods': 178, 'Cereals - Excluding Beer': 347, 'Cereals, Other': 308, 'Citrus, Other': 155, 'Cloves': 134, 'Cocoa Beans and products': 176, 'Coconut Oil': 136, 'Coconuts - Incl Copra': 175, 'Coffee and products': 174, 'Cottonseed': 21, 'Cottonseed Oil': 110, 'Cream': 159, 'Crustaceans': 189, 'Dates': 159, 'Demersal Fish': 203, 'Eggs': 360, 'Fats, Animals, Raw': 183, 'Fish, Body Oil': 259, 'Fish, Liver Oil': 166, 'Fish, Seafood': 337, 'Freshwater Fish': 189, 'Fruits - Excluding Wine': 232, 'Fruits, Other': 185, 'Grapefruit and products': 162, 'Grapes and products (excl wine)': 173, 'Groundnut Oil': 158, 'Groundnuts (Shelled Eq)': 170, 'Honey': 169, 'Infant food': 161, 'Lemons, Limes and products': 162, 'Maize Germ Oil': 158, 'Maize and products': 333, 'Marine Fish, Other': 219, 'Meat': 188, 'Meat, Aquatic Mammals': 3, 'Meat, Other': 184, 'Milk - Excluding Butter': 558, 'Millet and products': 188, 'Miscellaneous': 161, 'Molluscs, Other': 175, 'Mutton & Goat Meat': 176, 'Nuts and products': 173, 'Oats': 279, 'Offals': 197, 'Offals, Edible': 197, 'Oilcrops': 314, 'Oilcrops Oil, Other': 171, 'Oilcrops, Other': 250, 'Olive Oil': 174, 'Olives (including preserved)': 158, 'Onions': 167, 'Oranges, Mandarines': 175, 'Palm Oil': 124, 'Palm kernels': 24, 'Palmkernel Oil': 92, 'Peas': 196, 'Pelagic Fish': 328, 'Pepper': 169, 'Pigmeat': 169, 'Pimento': 154, 'Pineapples and products': 168, 'Plantains': 135, 'Potatoes and products': 254, 'Poultry Meat': 175, 'Pulses': 261, 'Pulses, Other and products': 255, 'Rape and Mustard Oil': 121, 'Rape and Mustardseed': 196, 'Rice (Milled Equivalent)': 255, 'Ricebran Oil': 18, 'Roots, Other': 213, 'Rye and products': 223, 'Sesame seed': 125, 'Sesameseed Oil': 129, 'Sorghum and products': 195, 'Soyabean Oil': 174, 'Soyabeans': 223, 'Spices': 175, 'Spices, Other': 172, 'Starchy Roots': 309, 'Stimulants': 177, 'Sugar & Sweeteners': 203, 'Sugar (Raw Equivalent)': 197, 'Sugar Crops': 141, 'Sugar beet': 66, 'Sugar cane': 87, 'Sugar non-centrifugal': 32, 'Sunflower seed': 106, 'Sunflowerseed Oil': 162, 'Sweet potatoes': 189, 'Sweeteners, Other': 179, 'Tea (including mate)': 174, 'Tomatoes and products': 175, 'Treenuts': 173, 'Vegetable Oils': 188, 'Vegetables': 258, 'Vegetables, Other': 258, 'Wheat and products': 273, 'Wine': 169, 'Yams': 90}\n"
     ]
    }
   ],
   "source": [
    "for i in df.Item :\n",
    "    dic.update({i:dic[i]+1})\n",
    "print(dic)"
   ]
  },
  {
   "cell_type": "markdown",
   "metadata": {},
   "source": [
    "#### 7. Crear una lista generada con tuplas que almacenen la clave y valor para el diccionario que cuenta la repetición de cada categoría o utilizar la función entries"
   ]
  },
  {
   "cell_type": "code",
   "execution_count": 53,
   "metadata": {},
   "outputs": [],
   "source": [
    "#tup_list=[(a,b) for a,b in dic.items()]\n",
    "tup_list=list(dic.items())"
   ]
  },
  {
   "cell_type": "code",
   "execution_count": 54,
   "metadata": {},
   "outputs": [
    {
     "name": "stdout",
     "output_type": "stream",
     "text": [
      "('Animal fats', 280)\n"
     ]
    }
   ],
   "source": [
    "print(tup_list[1])"
   ]
  },
  {
   "cell_type": "markdown",
   "metadata": {},
   "source": [
    "#### 8. Separar la lista de tuplas anterior en dos listas con zip(*…) Llamadas labels y sizes"
   ]
  },
  {
   "cell_type": "code",
   "execution_count": 23,
   "metadata": {},
   "outputs": [],
   "source": [
    "labels, sizes=zip(*tup_list)"
   ]
  },
  {
   "cell_type": "code",
   "execution_count": 24,
   "metadata": {},
   "outputs": [
    {
     "name": "stdout",
     "output_type": "stream",
     "text": [
      "('Alcoholic Beverages', 'Animal fats', 'Apples and products', 'Aquatic Animals, Others', 'Aquatic Plants', 'Aquatic Products, Other', 'Bananas', 'Barley and products', 'Beans', 'Beer', 'Beverages, Alcoholic', 'Beverages, Fermented', 'Bovine Meat', 'Butter, Ghee', 'Cassava and products', 'Cephalopods', 'Cereals - Excluding Beer', 'Cereals, Other', 'Citrus, Other', 'Cloves', 'Cocoa Beans and products', 'Coconut Oil', 'Coconuts - Incl Copra', 'Coffee and products', 'Cottonseed', 'Cottonseed Oil', 'Cream', 'Crustaceans', 'Dates', 'Demersal Fish', 'Eggs', 'Fats, Animals, Raw', 'Fish, Body Oil', 'Fish, Liver Oil', 'Fish, Seafood', 'Freshwater Fish', 'Fruits - Excluding Wine', 'Fruits, Other', 'Grapefruit and products', 'Grapes and products (excl wine)', 'Groundnut Oil', 'Groundnuts (Shelled Eq)', 'Honey', 'Infant food', 'Lemons, Limes and products', 'Maize Germ Oil', 'Maize and products', 'Marine Fish, Other', 'Meat', 'Meat, Aquatic Mammals', 'Meat, Other', 'Milk - Excluding Butter', 'Millet and products', 'Miscellaneous', 'Molluscs, Other', 'Mutton & Goat Meat', 'Nuts and products', 'Oats', 'Offals', 'Offals, Edible', 'Oilcrops', 'Oilcrops Oil, Other', 'Oilcrops, Other', 'Olive Oil', 'Olives (including preserved)', 'Onions', 'Oranges, Mandarines', 'Palm Oil', 'Palm kernels', 'Palmkernel Oil', 'Peas', 'Pelagic Fish', 'Pepper', 'Pigmeat', 'Pimento', 'Pineapples and products', 'Plantains', 'Potatoes and products', 'Poultry Meat', 'Pulses', 'Pulses, Other and products', 'Rape and Mustard Oil', 'Rape and Mustardseed', 'Rice (Milled Equivalent)', 'Ricebran Oil', 'Roots, Other', 'Rye and products', 'Sesame seed', 'Sesameseed Oil', 'Sorghum and products', 'Soyabean Oil', 'Soyabeans', 'Spices', 'Spices, Other', 'Starchy Roots', 'Stimulants', 'Sugar & Sweeteners', 'Sugar (Raw Equivalent)', 'Sugar Crops', 'Sugar beet', 'Sugar cane', 'Sugar non-centrifugal', 'Sunflower seed', 'Sunflowerseed Oil', 'Sweet potatoes', 'Sweeteners, Other', 'Tea (including mate)', 'Tomatoes and products', 'Treenuts', 'Vegetable Oils', 'Vegetables', 'Vegetables, Other', 'Wheat and products', 'Wine', 'Yams')\n"
     ]
    }
   ],
   "source": [
    "print (labels)"
   ]
  },
  {
   "cell_type": "code",
   "execution_count": 25,
   "metadata": {},
   "outputs": [
    {
     "name": "stdout",
     "output_type": "stream",
     "text": [
      "(173, 280, 194, 135, 164, 169, 186, 276, 195, 173, 171, 162, 177, 180, 225, 178, 347, 308, 155, 134, 176, 136, 175, 174, 21, 110, 159, 189, 159, 203, 360, 183, 259, 166, 337, 189, 232, 185, 162, 173, 158, 170, 169, 161, 162, 158, 333, 219, 188, 3, 184, 558, 188, 161, 175, 176, 173, 279, 197, 197, 314, 171, 250, 174, 158, 167, 175, 124, 24, 92, 196, 328, 169, 169, 154, 168, 135, 254, 175, 261, 255, 121, 196, 255, 18, 213, 223, 125, 129, 195, 174, 223, 175, 172, 309, 177, 203, 197, 141, 66, 87, 32, 106, 162, 189, 179, 174, 175, 173, 188, 258, 258, 273, 169, 90)\n"
     ]
    }
   ],
   "source": [
    "print(sizes)"
   ]
  },
  {
   "cell_type": "markdown",
   "metadata": {},
   "source": [
    "#### 9. Graficar en una gráfica de pastel los labels y sizes\n",
    "Solo se graficaron los primeros 10 elementos "
   ]
  },
  {
   "cell_type": "code",
   "execution_count": 28,
   "metadata": {},
   "outputs": [
    {
     "data": {
      "image/png": "[encoded data removed]",
      "text/plain": [
       "<Figure size 432x288 with 1 Axes>"
      ]
     },
     "metadata": {},
     "output_type": "display_data"
    }
   ],
   "source": [
    "plt.pie(sizes[1:10], labels=labels[1:10])\n",
    "plt.axis(\"equal\")\n",
    "plt.show()"
   ]
  },
  {
   "cell_type": "markdown",
   "metadata": {},
   "source": [
    "#### 10. Graficar en barras los labels y sizes\n",
    "Solo se graficaron los primeros 10 elementos"
   ]
  },
  {
   "cell_type": "code",
   "execution_count": 34,
   "metadata": {},
   "outputs": [
    {
     "data": {
      "text/plain": [
       "(array([0., 1., 2., 3., 4., 5., 6., 7., 8.]),\n",
       " <a list of 9 Text xticklabel objects>)"
      ]
     },
     "execution_count": 34,
     "metadata": {},
     "output_type": "execute_result"
    },
    {
     "data": {
      "image/png": "[encoded data removed]",
      "text/plain": [
       "<Figure size 432x288 with 1 Axes>"
      ]
     },
     "metadata": {},
     "output_type": "display_data"
    }
   ],
   "source": [
    "weight=0.2\n",
    "plt.bar(labels[1:10],sizes[1:10],weight, color=\"seagreen\", tick_label=labels[1:10])\n",
    "plt.xticks(rotation=90)"
   ]
  },
  {
   "cell_type": "markdown",
   "metadata": {},
   "source": [
    "#### **Extra:** crear una función llamada plot_cat(name, column) que abra el archivo name, seleccione la columna column y cree las gráficas anteriores de forma automática y las guarde en archivos de imagen (puedes regresar opcionalmente el diccionario de categorías y conteos)"
   ]
  },
  {
   "cell_type": "code",
   "execution_count": 66,
   "metadata": {},
   "outputs": [],
   "source": [
    "def plot_cat(name,column):\n",
    "    df=pd.read_csv(\"{}\".format(name),encoding = \"ISO-8859-1\").dropna()\n",
    "    cat_cont={}\n",
    "    for cat in df[column].unique():\n",
    "        cat_cont[cat]=0\n",
    "    for cat in df[column]:\n",
    "        cat_cont[cat]+=1\n",
    "    labels,sizes=zip(*cat_cont.items())\n",
    "    plt.pie(sizes,labels=labels)\n",
    "    plt.axis(\"equal\")\n",
    "    plt.savefig(\"{}_{}_pie.png\".format(name,column))\n",
    "    plt.bar(labels,sizes)\n",
    "    plt.savefig(\"{}_{}_bar.png\".format(name,column))\n",
    "    "
   ]
  },
  {
   "cell_type": "code",
   "execution_count": null,
   "metadata": {},
   "outputs": [],
   "source": []
  }
 ],
 "metadata": {
  "kernelspec": {
   "display_name": "Python 3",
   "language": "python",
   "name": "python3"
  },
  "language_info": {
   "codemirror_mode": {
    "name": "ipython",
    "version": 3
   },
   "file_extension": ".py",
   "mimetype": "text/x-python",
   "name": "python",
   "nbconvert_exporter": "python",
   "pygments_lexer": "ipython3",
   "version": "3.6.5"
  }
 },
 "nbformat": 4,
 "nbformat_minor": 2
}
